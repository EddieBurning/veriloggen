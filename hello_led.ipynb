{
 "cells": [
  {
   "cell_type": "code",
   "execution_count": 1,
   "metadata": {
    "collapsed": true
   },
   "outputs": [],
   "source": [
    "from __future__ import absolute_import\n",
    "from __future__ import print_function\n",
    "import sys\n",
    "import os\n",
    "from veriloggen import *"
   ]
  },
  {
   "cell_type": "code",
   "execution_count": 2,
   "metadata": {
    "collapsed": true
   },
   "outputs": [],
   "source": [
    "def mkLed():\n",
    "    m = Module('blinkled')\n",
    "    width = m.Parameter('WIDTH', 8)\n",
    "    clk = m.Input('CLK')\n",
    "    rst = m.Input('RST')\n",
    "    led = m.OutputReg('LED', width)\n",
    "    count = m.Reg('count', 32)\n",
    "\n",
    "    m.Always(Posedge(clk))(\n",
    "        If(rst)(\n",
    "            count(0)\n",
    "        ).Else(\n",
    "            If(count == 1023)(\n",
    "                count(0)\n",
    "            ).Else(\n",
    "                count(count + 1)\n",
    "            )\n",
    "        ))\n",
    "    \n",
    "    m.Always(Posedge(clk))(\n",
    "        If(rst)(\n",
    "            led(0)\n",
    "        ).Else(\n",
    "            If(count == 1024 - 1)(\n",
    "                led(led + 1)\n",
    "            )\n",
    "        ))\n",
    "    \n",
    "    m.Always(Posedge(clk))(\n",
    "        If(rst)(\n",
    "        ).Else(\n",
    "            Systask('display', \"LED:%d count:%d\", led, count)\n",
    "        ))\n",
    "    \n",
    "    return m"
   ]
  },
  {
   "cell_type": "code",
   "execution_count": 3,
   "metadata": {
    "collapsed": false
   },
   "outputs": [
    {
     "name": "stdout",
     "output_type": "stream",
     "text": [
      "\n",
      "\n",
      "module blinkled #\n",
      "(\n",
      "  parameter WIDTH = 8\n",
      ")\n",
      "(\n",
      "  input CLK,\n",
      "  input RST,\n",
      "  output reg [WIDTH-1:0] LED\n",
      ");\n",
      "\n",
      "  reg [32-1:0] count;\n",
      "\n",
      "  always @(posedge CLK) begin\n",
      "    if(RST) begin\n",
      "      count <= 0;\n",
      "    end else begin\n",
      "      if(count == 1023) begin\n",
      "        count <= 0;\n",
      "      end else begin\n",
      "        count <= count + 1;\n",
      "      end\n",
      "    end\n",
      "  end\n",
      "\n",
      "\n",
      "  always @(posedge CLK) begin\n",
      "    if(RST) begin\n",
      "      LED <= 0;\n",
      "    end else begin\n",
      "      if(count == 1023) begin\n",
      "        LED <= LED + 1;\n",
      "      end \n",
      "    end\n",
      "  end\n",
      "\n",
      "\n",
      "  always @(posedge CLK) begin\n",
      "    if(RST) begin\n",
      "    end else begin\n",
      "      $display(\"LED:%d count:%d\", LED, count);\n",
      "    end\n",
      "  end\n",
      "\n",
      "\n",
      "endmodule\n",
      "\n",
      "\n"
     ]
    }
   ],
   "source": [
    "led = mkLed()\n",
    "verilog = led.to_verilog()\n",
    "print(verilog)"
   ]
  },
  {
   "cell_type": "code",
   "execution_count": null,
   "metadata": {
    "collapsed": true
   },
   "outputs": [],
   "source": []
  }
 ],
 "metadata": {
  "kernelspec": {
   "display_name": "Python 3",
   "language": "python",
   "name": "python3"
  },
  "language_info": {
   "codemirror_mode": {
    "name": "ipython",
    "version": 3
   },
   "file_extension": ".py",
   "mimetype": "text/x-python",
   "name": "python",
   "nbconvert_exporter": "python",
   "pygments_lexer": "ipython3",
   "version": "3.6.0"
  }
 },
 "nbformat": 4,
 "nbformat_minor": 2
}
